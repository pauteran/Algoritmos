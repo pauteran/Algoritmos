{
  "nbformat": 4,
  "nbformat_minor": 0,
  "metadata": {
    "colab": {
      "provenance": [],
      "collapsed_sections": [
        "ISrmcgMcJBbi",
        "C00XwUsiB0yV"
      ]
    },
    "kernelspec": {
      "name": "python3",
      "display_name": "Python 3"
    },
    "language_info": {
      "name": "python"
    }
  },
  "cells": [
    {
      "cell_type": "markdown",
      "source": [
        "#**GLOSARIO MÓDULO 4**\n",
        "\n",
        "**Estudiante:** Paulina Isabel Terán Amores\n",
        "\n",
        "---\n",
        "\n",
        "\n"
      ],
      "metadata": {
        "id": "sGpND9C18eem"
      }
    },
    {
      "cell_type": "markdown",
      "source": [
        "###**Codificador automático (Autoencoder)**\n",
        "\n",
        "*Categoría: Informática*\n",
        "\n",
        "Tipo de red neuronal artificial usada para aprendizaje de codificación eficiente de datos de forma no supervisada. Consta de codificador y decodificador. El primero genera una representación reducida de características de una entrada inicial por una capa oculta. El decodificador reconstruye la entrada inicial del codificador minimizando la función de pérdida. Los codificadores automáticos permiten la remoción de ruido, extracción de características, compresiones y tareas similares (Kunapuli & Bhallamudi, 2021).\n",
        "\n",
        "\n"
      ],
      "metadata": {
        "id": "thm6fSAqEcai"
      }
    },
    {
      "cell_type": "markdown",
      "source": [
        "###**Máquina de Boltzmann restringida (RBM)**\n",
        "\n",
        "*Categoría: Informática*\n",
        "\n",
        "Modelo gráfico probabilístico que puede ser interpretado como una red neuronal estocástica. Se ha propuesto como bloque de construcción de arquitecturas de aprendizaje multicapa denominados redes de creencia profunda (DBNs). Las neuronas ocultas extraen propiedades relevantes de las observaciones, que pueden ser la entrada para otra RBM, llegando a una representación de alto nivel (Fischer & Igel, 2012)."
      ],
      "metadata": {
        "id": "ISrmcgMcJBbi"
      }
    },
    {
      "cell_type": "markdown",
      "source": [
        "###**Modified National Institute of Standards and Technology database (MNIST)**\n",
        "\n",
        "*Categoría: Informática*\n",
        "\n",
        "Base de datos de dígitos que consiste en un conjunto de datos de entrenamiento de 60 000 ejemplos, y un conjunto de datos de prueba de 10 000 ejemplos. Es un subconjunto de un conjunto de datos disponible en NIST. Adicionalmente, las imágenes en blanco y negro de NIST fueron normalizadas en términos de su tamaño y centradas en una caja de 28x28 pixeles, incluyendo niveles de escala de grises (Klein, 2022).\n",
        "\n",
        "\n"
      ],
      "metadata": {
        "id": "FS0Ed-qiMP1f"
      }
    },
    {
      "cell_type": "markdown",
      "source": [
        "###**Red Generativa Antagónica (GAN)** \n",
        "\n",
        "*Categoría: Informática*\n",
        "\n",
        "Modelo generativo, basado en aprendizaje profundo. GAN aprende \n",
        "el modelo generativo de la distribución de datos mediante métodos contradictorios, entrenando un generador y un discriminador (Lan et al., 2020).\n",
        "El generador toma como entrada un espacio probabilístico latente y lo mapea en una muestra perteneciente a la distribución del set de datos objetivo. Durante el entrenamiento, el discriminador toma muestras reales, pertenecientes a la verdad fundamental, y muestras falsas, creadas por el generador. Su tarea es discriminar los que pertenecen a la verdad fundamental. La pérdida del discriminador permite la mejora del generador. De manera que el generador aprende a crear muestras más convincentes para engañar al discriminador mientras que el discriminador mejora su capacidad de diferenciar entre muestras reales y generadas (Reimers & Requena-Mesa, 2020).\n"
      ],
      "metadata": {
        "id": "3GPXEKTX8eGi"
      }
    },
    {
      "cell_type": "markdown",
      "source": [
        "###**Redes Neuronales Convolucionales (CNN)**\n",
        "\n",
        "*Categoría: Informática*\n",
        "\n",
        "Arquitectura de red para aprendizaje profundo, capaz de aprender directamente de los datos, sin necesidad de extraer características manualmente. Las CNN se emplean para distinguir patrones en imágenes que permiten reconocer objetos, rostros y escenarios. A la vez, pueden clasificar datos de audio y señales (MathWorks, 2022)."
      ],
      "metadata": {
        "id": "wuX0Xgq8Pfpn"
      }
    },
    {
      "cell_type": "markdown",
      "source": [
        "#**REFERENCIAS**\n",
        "<div class=\"csl-entry\">Fischer, A., & Igel, C. (2012). An Introduction to Restricted Boltzmann Machines. In: Alvarez, L., Mejail, M., Gomez, L., Jacobo, J. (eds) Progress in Pattern Recognition, Image Analysis, Computer Vision, and Applications. CIARP 2012. Lecture Notes in Computer Science, vol 7441. Springer, Berlin, Heidelberg. https://doi.org/10.1007/978-3-642-33275-3_2</div>\n",
        "<div class=\"csl-entry\">Klein, B. (2022). <i>20. Training and Testing with MNIST | Machine Learning</i>. https://python-course.eu/machine-learning/training-and-testing-with-mnist.php</div>\n",
        "<div class=\"csl-entry\">Kunapuli, S., &#38; Bhallamudi, P. (2021). A review of deep learning models for medical diagnosis. <i>Machine Learning, Big Data, and IoT for Medical Informatics</i>, 389–404. https://doi.org/10.1016/B978-0-12-821777-1.00007-0</div>\n",
        "<div class=\"csl-entry\">Lan, L., You, L., Zhang, Z., Fan, Z., Zhao, W., Zeng, N., Chen, Y., &#38; Zhou, X. (2020). Generative Adversarial Networks and Its Applications in Biomedical Informatics. <i>Frontiers in Public Health</i>, <i>8</i>, 164. https://doi.org/10.3389/FPUBH.2020.00164/BIBTEX</div>\n",
        "<div class=\"csl-entry\">MathWorks. (2022). <i>Redes neuronales convolucionales </i>. https://la.mathworks.com/discovery/convolutional-neural-network-matlab.html</div>\n",
        "<div class=\"csl-entry\">Reimers, C., &#38; Requena-Mesa, C. (2020). Deep Learning – an Opportunity and a Challenge for Geo- and Astrophysics. <i>Knowledge Discovery in Big Data from Astronomy and Earth Observation: Astrogeoinformatics</i>, 251–265. https://doi.org/10.1016/B978-0-12-819154-5.00024-2</div>"
      ],
      "metadata": {
        "id": "C00XwUsiB0yV"
      }
    }
  ]
}